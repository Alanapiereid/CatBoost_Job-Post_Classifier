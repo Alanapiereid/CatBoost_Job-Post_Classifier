{
 "cells": [
  {
   "cell_type": "code",
   "execution_count": 5,
   "id": "4df593d0",
   "metadata": {},
   "outputs": [],
   "source": [
    "import pandas as pd\n",
    "import nltk\n",
    "from sklearn.model_selection import train_test_split\n",
    "import numpy as np\n",
    "from sklearn.feature_extraction.text import TfidfVectorizer\n",
    "from sklearn.pipeline import Pipeline\n",
    "from catboost import CatBoostClassifier\n",
    "from sklearn.feature_extraction.text import TfidfTransformer\n",
    "from nltk.corpus import stopwords\n",
    "stop_words = set(stopwords.words('english'))\n",
    "from sklearn.compose import ColumnTransformer\n",
    "import re\n",
    "from collections import Counter\n",
    "from sklearn.preprocessing import OneHotEncoder\n",
    "import string"
   ]
  },
  {
   "cell_type": "code",
   "execution_count": 6,
   "id": "067ca87d",
   "metadata": {},
   "outputs": [
    {
     "name": "stdout",
     "output_type": "stream",
     "text": [
      "{'Senior Level', 'Entry Level', 'Internship', 'Mid Level'}\n"
     ]
    }
   ],
   "source": [
    "df = pd.read_json('data.json')\n",
    "# 'level', 'description', 'title'\n",
    "\n",
    "# There's a description in Japanese here that probably shouldn't be there. I'll remove that row.\n",
    "df.drop(99, inplace=True)\n",
    "df = df.reset_index(drop=True)\n",
    "print(set(list(df['level'].dropna())))\n",
    "# OK it's a multi-class problem: {'Senior Level', 'Entry Level', 'Internship', 'Mid Level'}"
   ]
  },
  {
   "cell_type": "code",
   "execution_count": 7,
   "id": "b219d741",
   "metadata": {},
   "outputs": [
    {
     "name": "stdout",
     "output_type": "stream",
     "text": [
      "SENIOR LEVEL : {'Recruiting', 'Node', 'Switzerland)', 'Austria,', 'Marketing,', 'Public', 'Go', 'UK', 'Coursera', 'Researcher', 'Lead/Senior', 'Art', 'RESEARCH', '/', 'Regional', 'Taxation', 'DEVELOPMENT', 'Secretary', 'Procurement,', 'State', '(Germany,', 'City', 'Counsel', 'University', 'Team', 'ANALYST', 'Country', 'VICE', 'HR', 'Partnership', 'Market', 'VP', 'full-time', 'ACTION', 'VP/Controller', 'Manager-', 'LIVE', 'Director,', 'Indirect', 'DACH', 'Sector,', 'Managing', 'Sales,', 'SENIOR', 'Architect', 'Manager/Manager', 'Tech)', 'Tennessee', 'Controlling', 'Tax', '(Tech)', 'Middle', 'Comms', 'Testautomation', 'APAC', 'Associate', 'Memphis', 'Lead', '(remote)', 'ANZ', 'Company', 'PRESIDENT,', '(Marketing'}\n",
      "----------------------------------------\n",
      "ENTRY LEVEL : {'Cloud', '(Hamburg,', 'HLE', 'Safety', 'based', 'Store', '(HLE.Transporter', 'Tester', 'WebSphere', 'Trust', 'DE)', 'App', 'Transporter', 'manager', '(Indonesia', 'Backend', 'Shopify', 'Representative', 'IBM', '(San', 'HLE..Operations.Nonex)', 'territory)', 'Geek', 'Francisco)', 'office', 'Vaniday', 'Accountant', 'Success', 'Partnerships', 'Junior', 'Hacker', 'Portal', 'Plus'}\n",
      "----------------------------------------\n",
      "INTERNSHIP : {'Online', '(Electronics)', 'Students', 'Research', 'Rewards', 'Intelligence', 'Prototyping', 'Electrical', 'Design', 'Rapid', 'Recognition', 'Zuora', '(French-Speaking)', 'Student', 'Instructional', 'Working', 'Campaign', 'Compliance', 'Speech'}\n",
      "----------------------------------------\n",
      "MID LEVEL : {'(AWS)', 'AMAZON', 'UX/UI', 'territory', 'Valley', 'MANAGER,', 'Indonesia', '(based', 'Solutions', 'Commerce', 'Vendor', 'End', 'Migration', 'Missouri', 'EXECUTIVE', 'COMEDY', 'VH1-VELOCITY', 'MARKETING', 'UI/UX', 'Conference', 'Javascript', 'Purchasing', 'Front', 'Infrastructure', 'Partner', '(Full-Stack)', 'Services,', 'Display', 'INTEGRATED', 'Production', 'Center', 'MARKETING,', 'Singapore)', 'CENTRAL', '(cross-platform)', 'Back-End', 'ACCOUNT', 'DIGITAL'}\n",
      "----------------------------------------\n"
     ]
    }
   ],
   "source": [
    "# Sort according to level and get unique sets of words using sets/disjuncts\n",
    "\n",
    "for cat in set(list(df['level'].dropna())):\n",
    "         df_sub = df.loc[(df[\"level\"] == cat), \"title\"]\n",
    "         df_disj = df.loc[(df[\"level\"] != cat), \"title\"]\n",
    "         l_of_str = \" \".join(df_sub.values).split()\n",
    "         l_of_disj = \" \".join(df_disj.values).split()\n",
    "         print(cat.upper(), ':' , set(l_of_str) - set(l_of_disj))\n",
    "         print('----------------------------------------')\n",
    "\n"
   ]
  },
  {
   "cell_type": "code",
   "execution_count": 8,
   "id": "c8a9e582",
   "metadata": {},
   "outputs": [
    {
     "name": "stdout",
     "output_type": "stream",
     "text": [
      "Senior Level = ['Senior', 'Manager', 'Engineer', 'Product', 'Software', 'Marketing', 'Manager,', '(remote)', 'Enterprise', 'Director']\n",
      "Entry Level = ['Developer', 'Manager', 'Business', 'Customer', 'Engineer', 'Success', 'Development', 'Course', 'Junior', 'Backend']\n",
      "Internship = ['Intern', 'Business', 'Working', 'Development', 'Security', 'Online', 'Marketing', 'Denmark', 'Electrical', 'Engineering']\n",
      "Mid Level = ['Engineer', 'Manager', 'Software', 'Manager,', 'Product', 'Business', 'Infrastructure', 'Designer', 'Developer', 'Analyst']\n"
     ]
    }
   ],
   "source": [
    "# Also check word frequency per 'level' category: 10 most frequent\n",
    "\n",
    "def get_n_most_common(string, n):\n",
    "        fdist = nltk.FreqDist(string)\n",
    "        common = fdist.most_common(n)\n",
    "        return [x[0] for x in common]\n",
    "\n",
    "for cat in set(list(df['level'].dropna())):\n",
    "        df_sub = df.loc[(df[\"level\"] == cat), \"title\"]\n",
    "        l_of_str = \" \".join(df_sub.values).split()\n",
    "        # only get words longer than 5 characters (strips out a lof of punctuation/abbreviations etc.)\n",
    "        l_of_str = [x for x in l_of_str if len(x) > 5]\n",
    "        print(cat, '=', get_n_most_common(l_of_str, 10))"
   ]
  },
  {
   "cell_type": "code",
   "execution_count": 9,
   "id": "29a65fdd",
   "metadata": {},
   "outputs": [
    {
     "data": {
      "text/html": [
       "<div>\n",
       "<style scoped>\n",
       "    .dataframe tbody tr th:only-of-type {\n",
       "        vertical-align: middle;\n",
       "    }\n",
       "\n",
       "    .dataframe tbody tr th {\n",
       "        vertical-align: top;\n",
       "    }\n",
       "\n",
       "    .dataframe thead th {\n",
       "        text-align: right;\n",
       "    }\n",
       "</style>\n",
       "<table border=\"1\" class=\"dataframe\">\n",
       "  <thead>\n",
       "    <tr style=\"text-align: right;\">\n",
       "      <th></th>\n",
       "      <th>level</th>\n",
       "      <th>text</th>\n",
       "    </tr>\n",
       "  </thead>\n",
       "  <tbody>\n",
       "    <tr>\n",
       "      <th>0</th>\n",
       "      <td>Entry Level</td>\n",
       "      <td>Frontend Engineer (m/f) OUTFITTERY is Europe’s...</td>\n",
       "    </tr>\n",
       "    <tr>\n",
       "      <th>1</th>\n",
       "      <td>Senior Level</td>\n",
       "      <td>Senior Product Manager (m/f) OUTFITTERY is Eur...</td>\n",
       "    </tr>\n",
       "    <tr>\n",
       "      <th>2</th>\n",
       "      <td>Entry Level</td>\n",
       "      <td>Android Developer JOB DESCRIPTION\\nPamet is lo...</td>\n",
       "    </tr>\n",
       "    <tr>\n",
       "      <th>3</th>\n",
       "      <td>Senior Level</td>\n",
       "      <td>Development Lead We are looking for a Developm...</td>\n",
       "    </tr>\n",
       "    <tr>\n",
       "      <th>4</th>\n",
       "      <td>Entry Level</td>\n",
       "      <td>IBM WebSphere Portal Developer JOB DESCRIPTION...</td>\n",
       "    </tr>\n",
       "  </tbody>\n",
       "</table>\n",
       "</div>"
      ],
      "text/plain": [
       "          level                                               text\n",
       "0   Entry Level  Frontend Engineer (m/f) OUTFITTERY is Europe’s...\n",
       "1  Senior Level  Senior Product Manager (m/f) OUTFITTERY is Eur...\n",
       "2   Entry Level  Android Developer JOB DESCRIPTION\\nPamet is lo...\n",
       "3  Senior Level  Development Lead We are looking for a Developm...\n",
       "4   Entry Level  IBM WebSphere Portal Developer JOB DESCRIPTION..."
      ]
     },
     "metadata": {},
     "output_type": "display_data"
    }
   ],
   "source": [
    "titles = dict(df['title'].value_counts())\n",
    "#print(titles, len(set(list(df['title']))))\n",
    "# There are many job titles (211) so these don't seem useful as categorical features. I'll merge them with the description into one string-type feature\n",
    "# merge text columns into one feature column\n",
    "df_copy = df.copy()\n",
    "df_copy['text'] = df_copy['title'] + ' ' + df_copy['description']\n",
    "df_copy = df_copy.drop(columns=['description', 'title'])\n",
    "display(df_copy.head())"
   ]
  },
  {
   "cell_type": "code",
   "execution_count": 10,
   "id": "eea6acea",
   "metadata": {},
   "outputs": [
    {
     "data": {
      "text/html": [
       "<div>\n",
       "<style scoped>\n",
       "    .dataframe tbody tr th:only-of-type {\n",
       "        vertical-align: middle;\n",
       "    }\n",
       "\n",
       "    .dataframe tbody tr th {\n",
       "        vertical-align: top;\n",
       "    }\n",
       "\n",
       "    .dataframe thead th {\n",
       "        text-align: right;\n",
       "    }\n",
       "</style>\n",
       "<table border=\"1\" class=\"dataframe\">\n",
       "  <thead>\n",
       "    <tr style=\"text-align: right;\">\n",
       "      <th></th>\n",
       "      <th>level</th>\n",
       "      <th>text</th>\n",
       "      <th>years_required</th>\n",
       "    </tr>\n",
       "  </thead>\n",
       "  <tbody>\n",
       "    <tr>\n",
       "      <th>0</th>\n",
       "      <td>Entry Level</td>\n",
       "      <td>Frontend Engineer (m/f) OUTFITTERY is Europe’s...</td>\n",
       "      <td>3</td>\n",
       "    </tr>\n",
       "    <tr>\n",
       "      <th>1</th>\n",
       "      <td>Senior Level</td>\n",
       "      <td>Senior Product Manager (m/f) OUTFITTERY is Eur...</td>\n",
       "      <td>0</td>\n",
       "    </tr>\n",
       "    <tr>\n",
       "      <th>2</th>\n",
       "      <td>Entry Level</td>\n",
       "      <td>Android Developer JOB DESCRIPTION\\nPamet is lo...</td>\n",
       "      <td>0</td>\n",
       "    </tr>\n",
       "    <tr>\n",
       "      <th>3</th>\n",
       "      <td>Senior Level</td>\n",
       "      <td>Development Lead We are looking for a Developm...</td>\n",
       "      <td>5</td>\n",
       "    </tr>\n",
       "    <tr>\n",
       "      <th>4</th>\n",
       "      <td>Entry Level</td>\n",
       "      <td>IBM WebSphere Portal Developer JOB DESCRIPTION...</td>\n",
       "      <td>0</td>\n",
       "    </tr>\n",
       "  </tbody>\n",
       "</table>\n",
       "</div>"
      ],
      "text/plain": [
       "          level                                               text  \\\n",
       "0   Entry Level  Frontend Engineer (m/f) OUTFITTERY is Europe’s...   \n",
       "1  Senior Level  Senior Product Manager (m/f) OUTFITTERY is Eur...   \n",
       "2   Entry Level  Android Developer JOB DESCRIPTION\\nPamet is lo...   \n",
       "3  Senior Level  Development Lead We are looking for a Developm...   \n",
       "4   Entry Level  IBM WebSphere Portal Developer JOB DESCRIPTION...   \n",
       "\n",
       "   years_required  \n",
       "0               3  \n",
       "1               0  \n",
       "2               0  \n",
       "3               5  \n",
       "4               0  "
      ]
     },
     "metadata": {},
     "output_type": "display_data"
    },
    {
     "name": "stdout",
     "output_type": "stream",
     "text": [
      "Number of rows with years-required information: 55\n"
     ]
    }
   ],
   "source": [
    "# Feature engineering:\n",
    "# Find how many texts have information about the number of years' experience required. This should be a good indicator of 'level' and a good learning feature:\n",
    "num_years = []\n",
    "for x in df_copy['text']:\n",
    "    \" \".join(x)\n",
    "    x = x.replace('\\n', \" \")\n",
    "    # regex to find number (plus optional '+'-sign, e.g. '3+ years') plus digit\n",
    "    years = re.findall('([.\\d+]+)\\s*(?:years)', x)\n",
    "    if years:\n",
    "            num_years.append(years[0].replace(\"+\", \"\"))\n",
    "    else:\n",
    "        num_years.append(0)\n",
    "num_years = [int(x) for x in num_years]\n",
    "num_years = [0 if item > 8 else item for item in num_years]\n",
    "df_copy['years_required'] = num_years\n",
    "display(df_copy.head())\n",
    "print('Number of rows with years-required information:', len(df_copy.loc[df_copy['years_required']!= 0]))"
   ]
  },
  {
   "cell_type": "code",
   "execution_count": 11,
   "id": "20c1cf5e",
   "metadata": {},
   "outputs": [
    {
     "name": "stdout",
     "output_type": "stream",
     "text": [
      "Number of rows in dev/hold-out set: 75\n",
      "Number of rows in train/test set: 140\n"
     ]
    }
   ],
   "source": [
    "# Find rows where level = 'nan'. This will be the dev/hold-out set at the very end\n",
    "df_hold = df_copy[df.isna().any(axis=1)]\n",
    "print('Number of rows in dev/hold-out set:', len(df_hold))\n",
    "\n",
    "# Remove dev/hold-out set values tocreate train/test set\n",
    "tr_te_df = pd.concat([df_copy,df_hold]).drop_duplicates(keep=False)\n",
    "print('Number of rows in train/test set:', len(tr_te_df))"
   ]
  },
  {
   "cell_type": "code",
   "execution_count": 12,
   "id": "ec240d99",
   "metadata": {},
   "outputs": [
    {
     "name": "stdout",
     "output_type": "stream",
     "text": [
      "Counts for target class: {'Senior Level': 57, 'Entry Level': 36, 'Mid Level': 32, 'Internship': 15}\n"
     ]
    }
   ],
   "source": [
    "# get counts of target class (\"level\")\n",
    "counts = list(tr_te_df['level'].value_counts())\n",
    "dict_counts = dict(tr_te_df['level'].value_counts())\n",
    "print('Counts for target class:', dict_counts)\n"
   ]
  },
  {
   "cell_type": "code",
   "execution_count": 13,
   "id": "57b9c947",
   "metadata": {},
   "outputs": [
    {
     "name": "stdout",
     "output_type": "stream",
     "text": [
      "[0.59, 0.74, 0.77, 0.89]\n"
     ]
    }
   ],
   "source": [
    "# Target class has unbalanced distribution. Do weighting of classes\n",
    "weights = [round(1 - round(x /sum(counts), 2), 2) for x in counts]\n",
    "print(weights)"
   ]
  },
  {
   "cell_type": "code",
   "execution_count": 14,
   "id": "dccfb685",
   "metadata": {},
   "outputs": [],
   "source": [
    "# Preprocess to deal with different data types (text vs. numerical)\n",
    "preprocess = ColumnTransformer(\n",
    "     [(\"vectorizer\", TfidfVectorizer(max_features=400, stop_words='english', token_pattern = \"[a-zA-Z]{2,}\", ngram_range = (1, 2), lowercase=True, strip_accents='unicode'), 'text'),\n",
    "      (\"encoder\", OneHotEncoder(handle_unknown='ignore'), ['years_required'])])"
   ]
  },
  {
   "cell_type": "code",
   "execution_count": 15,
   "id": "ac598aaa",
   "metadata": {},
   "outputs": [],
   "source": [
    "# Use CatBoost as learning algorithm\n",
    "\n",
    "clf = Pipeline(\n",
    "    steps=[(\"preprocessor\", preprocess), (\"classifier\", CatBoostClassifier(loss_function='MultiClass', random_state=1, class_weights=weights, learning_rate=0.7, iterations=50, depth=10))]\n",
    ")"
   ]
  },
  {
   "cell_type": "code",
   "execution_count": 16,
   "id": "65853df7",
   "metadata": {},
   "outputs": [
    {
     "name": "stdout",
     "output_type": "stream",
     "text": [
      "0:\tlearn: 1.2379748\ttotal: 434ms\tremaining: 21.2s\n",
      "1:\tlearn: 1.1096087\ttotal: 695ms\tremaining: 16.7s\n",
      "2:\tlearn: 1.0116013\ttotal: 951ms\tremaining: 14.9s\n",
      "3:\tlearn: 0.9588765\ttotal: 1.2s\tremaining: 13.8s\n",
      "4:\tlearn: 0.8958520\ttotal: 1.45s\tremaining: 13.1s\n",
      "5:\tlearn: 0.8285068\ttotal: 1.71s\tremaining: 12.5s\n",
      "6:\tlearn: 0.7044435\ttotal: 1.97s\tremaining: 12.1s\n",
      "7:\tlearn: 0.6668911\ttotal: 2.21s\tremaining: 11.6s\n",
      "8:\tlearn: 0.5740253\ttotal: 2.46s\tremaining: 11.2s\n",
      "9:\tlearn: 0.5148211\ttotal: 2.71s\tremaining: 10.8s\n",
      "10:\tlearn: 0.4599087\ttotal: 2.95s\tremaining: 10.4s\n",
      "11:\tlearn: 0.4255259\ttotal: 3.18s\tremaining: 10.1s\n",
      "12:\tlearn: 0.3632915\ttotal: 3.43s\tremaining: 9.75s\n",
      "13:\tlearn: 0.3180129\ttotal: 3.67s\tremaining: 9.45s\n",
      "14:\tlearn: 0.2924323\ttotal: 3.92s\tremaining: 9.15s\n",
      "15:\tlearn: 0.2735421\ttotal: 4.16s\tremaining: 8.84s\n",
      "16:\tlearn: 0.2493500\ttotal: 4.4s\tremaining: 8.54s\n",
      "17:\tlearn: 0.2302638\ttotal: 4.64s\tremaining: 8.25s\n",
      "18:\tlearn: 0.2113740\ttotal: 4.89s\tremaining: 7.98s\n",
      "19:\tlearn: 0.1961495\ttotal: 5.15s\tremaining: 7.73s\n",
      "20:\tlearn: 0.1821791\ttotal: 5.39s\tremaining: 7.44s\n",
      "21:\tlearn: 0.1678262\ttotal: 5.66s\tremaining: 7.21s\n",
      "22:\tlearn: 0.1559503\ttotal: 5.99s\tremaining: 7.03s\n",
      "23:\tlearn: 0.1466044\ttotal: 6.26s\tremaining: 6.79s\n",
      "24:\tlearn: 0.1406129\ttotal: 6.61s\tremaining: 6.61s\n",
      "25:\tlearn: 0.1347355\ttotal: 6.88s\tremaining: 6.35s\n",
      "26:\tlearn: 0.1282464\ttotal: 7.17s\tremaining: 6.11s\n",
      "27:\tlearn: 0.1213087\ttotal: 7.43s\tremaining: 5.84s\n",
      "28:\tlearn: 0.1143438\ttotal: 7.68s\tremaining: 5.57s\n",
      "29:\tlearn: 0.1080427\ttotal: 7.95s\tremaining: 5.3s\n",
      "30:\tlearn: 0.1027462\ttotal: 8.25s\tremaining: 5.05s\n",
      "31:\tlearn: 0.0979236\ttotal: 8.55s\tremaining: 4.81s\n",
      "32:\tlearn: 0.0938412\ttotal: 8.84s\tremaining: 4.55s\n",
      "33:\tlearn: 0.0895952\ttotal: 9.12s\tremaining: 4.29s\n",
      "34:\tlearn: 0.0860814\ttotal: 9.36s\tremaining: 4.01s\n",
      "35:\tlearn: 0.0831759\ttotal: 9.61s\tremaining: 3.74s\n",
      "36:\tlearn: 0.0797285\ttotal: 9.86s\tremaining: 3.46s\n",
      "37:\tlearn: 0.0771513\ttotal: 10.1s\tremaining: 3.19s\n",
      "38:\tlearn: 0.0736977\ttotal: 10.3s\tremaining: 2.92s\n",
      "39:\tlearn: 0.0711404\ttotal: 10.6s\tremaining: 2.65s\n",
      "40:\tlearn: 0.0698067\ttotal: 10.8s\tremaining: 2.38s\n",
      "41:\tlearn: 0.0663766\ttotal: 11.1s\tremaining: 2.11s\n",
      "42:\tlearn: 0.0651791\ttotal: 11.3s\tremaining: 1.84s\n",
      "43:\tlearn: 0.0632943\ttotal: 11.6s\tremaining: 1.58s\n",
      "44:\tlearn: 0.0620559\ttotal: 11.8s\tremaining: 1.31s\n",
      "45:\tlearn: 0.0597512\ttotal: 12.1s\tremaining: 1.05s\n",
      "46:\tlearn: 0.0586845\ttotal: 12.3s\tremaining: 785ms\n",
      "47:\tlearn: 0.0568851\ttotal: 12.5s\tremaining: 523ms\n",
      "48:\tlearn: 0.0547713\ttotal: 12.8s\tremaining: 261ms\n",
      "49:\tlearn: 0.0535787\ttotal: 13s\tremaining: 0us\n"
     ]
    },
    {
     "data": {
      "text/plain": [
       "Pipeline(steps=[('preprocessor',\n",
       "                 ColumnTransformer(transformers=[('vectorizer',\n",
       "                                                  TfidfVectorizer(max_features=400,\n",
       "                                                                  ngram_range=(1,\n",
       "                                                                               2),\n",
       "                                                                  stop_words='english',\n",
       "                                                                  strip_accents='unicode',\n",
       "                                                                  token_pattern='[a-zA-Z]{2,}'),\n",
       "                                                  'text'),\n",
       "                                                 ('encoder',\n",
       "                                                  OneHotEncoder(handle_unknown='ignore'),\n",
       "                                                  ['years_required'])])),\n",
       "                ('classifier',\n",
       "                 <catboost.core.CatBoostClassifier object at 0x000001A94E4EC790>)])"
      ]
     },
     "execution_count": 16,
     "metadata": {},
     "output_type": "execute_result"
    }
   ],
   "source": [
    "# Train/test split. A validation set is usually desirable, but the original dataset is tiny\n",
    "\n",
    "X = tr_te_df\n",
    "y = tr_te_df['level'].values\n",
    "\n",
    "X_train, X_test, y_train, y_test = train_test_split(X, y, test_size=0.2, random_state=0)\n",
    "clf.fit(X_train, y_train)\n",
    "\n"
   ]
  },
  {
   "cell_type": "code",
   "execution_count": 17,
   "id": "dddae6a0",
   "metadata": {},
   "outputs": [
    {
     "name": "stdout",
     "output_type": "stream",
     "text": [
      "model score: 0.643\n"
     ]
    }
   ],
   "source": [
    "# Note: merging 'description' and 'title' columns added +7% accuracy vis a vis separate columns\n",
    "print(\"model score: %.3f\" % clf.score(X_test, y_test))"
   ]
  },
  {
   "cell_type": "code",
   "execution_count": 18,
   "id": "bc4e4a33",
   "metadata": {},
   "outputs": [
    {
     "name": "stdout",
     "output_type": "stream",
     "text": [
      "['Entry Level', 'Senior Level', 'Senior Level', 'Senior Level', 'Internship', 'Senior Level', 'Entry Level', 'Entry Level', 'Senior Level', 'Entry Level', 'Entry Level', 'Senior Level', 'Senior Level', 'Entry Level', 'Senior Level', 'Senior Level', 'Senior Level', 'Senior Level', 'Senior Level', 'Senior Level', 'Senior Level', 'Senior Level', 'Mid Level', 'Senior Level', 'Internship', 'Senior Level', 'Internship', 'Senior Level', 'Senior Level', 'Entry Level', 'Entry Level', 'Entry Level', 'Entry Level', 'Entry Level', 'Mid Level', 'Senior Level', 'Senior Level', 'Senior Level', 'Senior Level', 'Entry Level', 'Mid Level', 'Senior Level', 'Senior Level', 'Senior Level', 'Senior Level', 'Entry Level', 'Senior Level', 'Senior Level', 'Entry Level', 'Entry Level', 'Entry Level', 'Mid Level', 'Senior Level', 'Senior Level', 'Senior Level', 'Senior Level', 'Senior Level', 'Senior Level', 'Senior Level', 'Senior Level', 'Senior Level', 'Senior Level', 'Senior Level', 'Entry Level', 'Senior Level', 'Senior Level', 'Senior Level', 'Senior Level', 'Senior Level', 'Senior Level', 'Senior Level', 'Senior Level', 'Senior Level', 'Senior Level', 'Senior Level']\n",
      "Here are the predicted  class counts: Counter({'Senior Level': 51, 'Entry Level': 17, 'Mid Level': 4, 'Internship': 3})\n"
     ]
    }
   ],
   "source": [
    "# Print predictions\n",
    "\n",
    "preds = [x[0] for x in clf.predict(df_hold)]\n",
    "print(preds)\n",
    "print('Here are the predicted  class counts:', Counter(preds))\n",
    "\n"
   ]
  },
  {
   "cell_type": "code",
   "execution_count": 19,
   "id": "2833a765",
   "metadata": {},
   "outputs": [],
   "source": [
    "# Add missing values to original dataframe\n",
    "df.loc[df['level'].isnull(), 'level'] = preds"
   ]
  },
  {
   "cell_type": "code",
   "execution_count": 20,
   "id": "5afe6782",
   "metadata": {},
   "outputs": [
    {
     "data": {
      "text/html": [
       "<div>\n",
       "<style scoped>\n",
       "    .dataframe tbody tr th:only-of-type {\n",
       "        vertical-align: middle;\n",
       "    }\n",
       "\n",
       "    .dataframe tbody tr th {\n",
       "        vertical-align: top;\n",
       "    }\n",
       "\n",
       "    .dataframe thead th {\n",
       "        text-align: right;\n",
       "    }\n",
       "</style>\n",
       "<table border=\"1\" class=\"dataframe\">\n",
       "  <thead>\n",
       "    <tr style=\"text-align: right;\">\n",
       "      <th></th>\n",
       "      <th>level</th>\n",
       "      <th>description</th>\n",
       "      <th>title</th>\n",
       "    </tr>\n",
       "  </thead>\n",
       "  <tbody>\n",
       "    <tr>\n",
       "      <th>0</th>\n",
       "      <td>Entry Level</td>\n",
       "      <td>OUTFITTERY is Europe’s biggest Personal Shoppi...</td>\n",
       "      <td>Frontend Engineer (m/f)</td>\n",
       "    </tr>\n",
       "    <tr>\n",
       "      <th>1</th>\n",
       "      <td>Senior Level</td>\n",
       "      <td>OUTFITTERY is Europe’s biggest Personal Shoppi...</td>\n",
       "      <td>Senior Product Manager (m/f)</td>\n",
       "    </tr>\n",
       "    <tr>\n",
       "      <th>2</th>\n",
       "      <td>Entry Level</td>\n",
       "      <td>JOB DESCRIPTION\\nPamet is looking for Android ...</td>\n",
       "      <td>Android Developer</td>\n",
       "    </tr>\n",
       "    <tr>\n",
       "      <th>3</th>\n",
       "      <td>Senior Level</td>\n",
       "      <td>We are looking for a Development Lead with 5+ ...</td>\n",
       "      <td>Development Lead</td>\n",
       "    </tr>\n",
       "    <tr>\n",
       "      <th>4</th>\n",
       "      <td>Entry Level</td>\n",
       "      <td>JOB DESCRIPTION\\nPamet is looking for a IBM We...</td>\n",
       "      <td>IBM WebSphere Portal Developer</td>\n",
       "    </tr>\n",
       "  </tbody>\n",
       "</table>\n",
       "</div>"
      ],
      "text/plain": [
       "          level                                        description  \\\n",
       "0   Entry Level  OUTFITTERY is Europe’s biggest Personal Shoppi...   \n",
       "1  Senior Level  OUTFITTERY is Europe’s biggest Personal Shoppi...   \n",
       "2   Entry Level  JOB DESCRIPTION\\nPamet is looking for Android ...   \n",
       "3  Senior Level  We are looking for a Development Lead with 5+ ...   \n",
       "4   Entry Level  JOB DESCRIPTION\\nPamet is looking for a IBM We...   \n",
       "\n",
       "                            title  \n",
       "0         Frontend Engineer (m/f)  \n",
       "1    Senior Product Manager (m/f)  \n",
       "2               Android Developer  \n",
       "3                Development Lead  \n",
       "4  IBM WebSphere Portal Developer  "
      ]
     },
     "metadata": {},
     "output_type": "display_data"
    }
   ],
   "source": [
    "display(df.head())"
   ]
  },
  {
   "cell_type": "code",
   "execution_count": 21,
   "id": "43193bcb",
   "metadata": {},
   "outputs": [
    {
     "name": "stdout",
     "output_type": "stream",
     "text": [
      "Number of NaN rows in new file: 0\n"
     ]
    }
   ],
   "source": [
    "# There should not be any empty rows in the file. Check:\n",
    "print('Number of NaN rows in new file:', len(df.loc[df['level'].isnull()]))"
   ]
  },
  {
   "cell_type": "code",
   "execution_count": 54,
   "id": "688653fd",
   "metadata": {},
   "outputs": [],
   "source": [
    "df.to_json('updated_data.json')"
   ]
  },
  {
   "cell_type": "code",
   "execution_count": null,
   "id": "19345a7e",
   "metadata": {},
   "outputs": [],
   "source": []
  }
 ],
 "metadata": {
  "kernelspec": {
   "display_name": "Python 3",
   "language": "python",
   "name": "python3"
  },
  "language_info": {
   "codemirror_mode": {
    "name": "ipython",
    "version": 3
   },
   "file_extension": ".py",
   "mimetype": "text/x-python",
   "name": "python",
   "nbconvert_exporter": "python",
   "pygments_lexer": "ipython3",
   "version": "3.8.6"
  }
 },
 "nbformat": 4,
 "nbformat_minor": 5
}
